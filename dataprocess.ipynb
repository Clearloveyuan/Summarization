{
 "cells": [
  {
   "cell_type": "code",
   "execution_count": 20,
   "metadata": {},
   "outputs": [],
   "source": [
    "def read_file_to_array(file_path):\n",
    "    # 初始化一个空数组用于存储文件的每一行\n",
    "    lines = []\n",
    "    # 尝试打开文件并逐行读取\n",
    "    try:\n",
    "        with open(file_path, 'r') as file:\n",
    "            for line in file:\n",
    "                # 去除每行末尾的换行符并添加到数组中\n",
    "                lines.append(line.strip())\n",
    "    except FileNotFoundError:\n",
    "        print(f\"文件 '{file_path}' 未找到\")\n",
    "    except Exception as e:\n",
    "        print(f\"读取文件时发生错误：{str(e)}\")\n",
    "    return lines\n",
    "\n",
    "\n",
    "def create_dictionary(document,summary,data_id,length):\n",
    "    #存储字典的列表\n",
    "    my_dict_list = []\n",
    "    for i in range(length):\n",
    "        my_dict = {}\n",
    "        my_dict['document'] = document[i]\n",
    "        my_dict['summary'] = summary[i]\n",
    "        my_dict['id'] = data_id[i]\n",
    "        my_dict_list.append(my_dict)\n",
    "    return my_dict_list\n",
    "\n",
    "\n",
    "def save_in_dictinary(json_file_path,my_dict_list,length):\n",
    "    # 打开文件以写入模式    \n",
    "    with open(json_file_path, 'w') as json_file:\n",
    "    # 将每个字典作为字符串写入文件\n",
    "        for data_dict in my_dict_list:\n",
    "            data_str = json.dumps(data_dict)  # 将字典转换为JSON格式的字符串\n",
    "            json_file.write(data_str + '\\n')  # 写入字符串，并加入换行符\n"
   ]
  },
  {
   "cell_type": "code",
   "execution_count": 23,
   "metadata": {},
   "outputs": [],
   "source": [
    "# train.json\n",
    "summary_path = 'xsum/train.summary'  # 替换为你要读取的文件的路径\n",
    "summary = read_file_to_array(summary_path)\n",
    "summary_document = 'xsum/train.document'  # 替换为你要读取的文件的路径\n",
    "document = read_file_to_array(summary_document)\n",
    "import json\n",
    "# 指定JSON文件的路径\n",
    "json_id = 'XSum-TRAINING-DEV-TEST-SPLIT-90-5-5.json'\n",
    "# 打开JSON文件并解析数据\n",
    "with open(json_id, 'r') as json_file:\n",
    "    data_id = json.load(json_file)['train']\n",
    "my_dict_list = create_dictionary(document,summary,data_id,len(summary))\n",
    "json_path = 'train.json'\n",
    "save_in_dictinary(json_path,my_dict_list,length=len(summary))"
   ]
  },
  {
   "cell_type": "code",
   "execution_count": 22,
   "metadata": {},
   "outputs": [],
   "source": [
    "# validation.json\n",
    "summary_path = 'xsum/validation.summary'  # 替换为你要读取的文件的路径\n",
    "summary = read_file_to_array(summary_path)\n",
    "summary_document = 'xsum/validation.document'  # 替换为你要读取的文件的路径\n",
    "document = read_file_to_array(summary_document)\n",
    "import json\n",
    "# 指定JSON文件的路径\n",
    "json_id = 'XSum-TRAINING-DEV-TEST-SPLIT-90-5-5.json'\n",
    "# 打开JSON文件并解析数据\n",
    "with open(json_id, 'r') as json_file:\n",
    "    data_id = json.load(json_file)['validation']\n",
    "\n",
    "my_dict_list = create_dictionary(document,summary,data_id,len(summary))\n",
    "json_path = 'validation.json'\n",
    "save_in_dictinary(json_path,my_dict_list,length=len(summary))"
   ]
  },
  {
   "cell_type": "code",
   "execution_count": 24,
   "metadata": {},
   "outputs": [],
   "source": [
    "# test.json\n",
    "summary_path = 'xsum/test.summary'  # 替换为你要读取的文件的路径\n",
    "summary = read_file_to_array(summary_path)\n",
    "summary_document = 'xsum/test.document'  # 替换为你要读取的文件的路径\n",
    "document = read_file_to_array(summary_document)\n",
    "import json\n",
    "# 指定JSON文件的路径\n",
    "json_id = 'XSum-TRAINING-DEV-TEST-SPLIT-90-5-5.json'\n",
    "# 打开JSON文件并解析数据\n",
    "with open(json_id, 'r') as json_file:\n",
    "    data_id = json.load(json_file)['test']\n",
    "my_dict_list = create_dictionary(document,summary,data_id,len(summary))\n",
    "json_path = 'test.json'\n",
    "save_in_dictinary(json_path,my_dict_list,length=len(summary))"
   ]
  }
 ],
 "metadata": {
  "kernelspec": {
   "display_name": "PA2",
   "language": "python",
   "name": "pa2"
  },
  "language_info": {
   "codemirror_mode": {
    "name": "ipython",
    "version": 3
   },
   "file_extension": ".py",
   "mimetype": "text/x-python",
   "name": "python",
   "nbconvert_exporter": "python",
   "pygments_lexer": "ipython3",
   "version": "3.9.0"
  },
  "orig_nbformat": 4
 },
 "nbformat": 4,
 "nbformat_minor": 2
}
