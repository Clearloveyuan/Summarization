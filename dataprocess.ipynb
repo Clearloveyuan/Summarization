{
 "cells": [
  {
   "cell_type": "code",
   "execution_count": 37,
   "metadata": {},
   "outputs": [],
   "source": [
    "def read_file_to_array(file_path):\n",
    "    # 初始化一个空数组用于存储文件的每一行\n",
    "    lines = []\n",
    "\n",
    "    # 尝试打开文件并逐行读取\n",
    "    try:\n",
    "        with open(file_path, 'r') as file:\n",
    "            for line in file:\n",
    "                # 去除每行末尾的换行符并添加到数组中\n",
    "                lines.append(line.strip())\n",
    "    except FileNotFoundError:\n",
    "        print(f\"文件 '{file_path}' 未找到\")\n",
    "    except Exception as e:\n",
    "        print(f\"读取文件时发生错误：{str(e)}\")\n",
    "    return lines\n",
    "\n",
    "\n",
    "def create_dictionary(document,summary,data_id,length):\n",
    "    #存储字典的列表\n",
    "    my_dict_list = []\n",
    "    for i in range(length):\n",
    "        my_dict = {}\n",
    "        my_dict['document'] = document[i]\n",
    "        my_dict['summary'] = summary[i]\n",
    "        my_dict['id'] = data_id[i]\n",
    "        my_dict_list.append(my_dict)\n",
    "    return my_dict_list\n",
    "\n",
    "\n",
    "def save_in_dictinary(json_file_path,my_dict_list,length):\n",
    "    with open(json_file_path, 'w') as f:\n",
    "        for i in range(length):\n",
    "            f.write(my_dict_list[i]+'\\n')\n"
   ]
  },
  {
   "cell_type": "code",
   "execution_count": 19,
   "metadata": {},
   "outputs": [],
   "source": [
    "# 用法示例\n",
    "summary_path = 'xsum/validation.summary'  # 替换为你要读取的文件的路径\n",
    "summary = read_file_to_array(summary_path)\n",
    "summary_document = 'xsum/validation.document'  # 替换为你要读取的文件的路径\n",
    "document = read_file_to_array(summary_document)\n",
    "import json\n",
    "# 指定JSON文件的路径\n",
    "json_file_path = 'XSum-TRAINING-DEV-TEST-SPLIT-90-5-5.json'\n",
    "# 打开JSON文件并解析数据\n",
    "with open(json_file_path, 'r') as json_file:\n",
    "    data_id = json.load(json_file)['validation']"
   ]
  },
  {
   "cell_type": "code",
   "execution_count": 21,
   "metadata": {},
   "outputs": [],
   "source": [
    "my_dict_list = create_dictionary(document,summary,data_id,len(summary))"
   ]
  },
  {
   "cell_type": "code",
   "execution_count": 36,
   "metadata": {},
   "outputs": [
    {
     "data": {
      "text/plain": [
       "list"
      ]
     },
     "execution_count": 36,
     "metadata": {},
     "output_type": "execute_result"
    }
   ],
   "source": [
    "type(my_dict_list)"
   ]
  },
  {
   "cell_type": "code",
   "execution_count": 38,
   "metadata": {},
   "outputs": [
    {
     "ename": "TypeError",
     "evalue": "unhashable type: 'list'",
     "output_type": "error",
     "traceback": [
      "\u001b[0;31m---------------------------------------------------------------------------\u001b[0m",
      "\u001b[0;31mTypeError\u001b[0m                                 Traceback (most recent call last)",
      "\u001b[1;32m/home/lr/lidy/Code/Active_Bayesian/Bayesian-Summarization/xsum_new/dataprocess.ipynb Cell 5\u001b[0m line \u001b[0;36m2\n\u001b[1;32m      <a href='vscode-notebook-cell://ssh-remote%2Bgpu03x/home/lr/lidy/Code/Active_Bayesian/Bayesian-Summarization/xsum_new/dataprocess.ipynb#X21sdnNjb2RlLXJlbW90ZQ%3D%3D?line=0'>1</a>\u001b[0m json_path \u001b[39m=\u001b[39m \u001b[39m'\u001b[39m\u001b[39mxsum_new/validation.json\u001b[39m\u001b[39m'\u001b[39m\n\u001b[0;32m----> <a href='vscode-notebook-cell://ssh-remote%2Bgpu03x/home/lr/lidy/Code/Active_Bayesian/Bayesian-Summarization/xsum_new/dataprocess.ipynb#X21sdnNjb2RlLXJlbW90ZQ%3D%3D?line=1'>2</a>\u001b[0m save_in_dictinary(my_dict_list,json_path,length\u001b[39m=\u001b[39;49m\u001b[39mlen\u001b[39;49m(summary))\n",
      "\u001b[1;32m/home/lr/lidy/Code/Active_Bayesian/Bayesian-Summarization/xsum_new/dataprocess.ipynb Cell 5\u001b[0m line \u001b[0;36m3\n\u001b[1;32m     <a href='vscode-notebook-cell://ssh-remote%2Bgpu03x/home/lr/lidy/Code/Active_Bayesian/Bayesian-Summarization/xsum_new/dataprocess.ipynb#X21sdnNjb2RlLXJlbW90ZQ%3D%3D?line=29'>30</a>\u001b[0m \u001b[39mdef\u001b[39;00m \u001b[39msave_in_dictinary\u001b[39m(json_file_path,my_dict_list,length):\n\u001b[0;32m---> <a href='vscode-notebook-cell://ssh-remote%2Bgpu03x/home/lr/lidy/Code/Active_Bayesian/Bayesian-Summarization/xsum_new/dataprocess.ipynb#X21sdnNjb2RlLXJlbW90ZQ%3D%3D?line=30'>31</a>\u001b[0m     \u001b[39mwith\u001b[39;00m \u001b[39mopen\u001b[39;49m(json_file_path, \u001b[39m'\u001b[39;49m\u001b[39mw\u001b[39;49m\u001b[39m'\u001b[39;49m) \u001b[39mas\u001b[39;00m f:\n\u001b[1;32m     <a href='vscode-notebook-cell://ssh-remote%2Bgpu03x/home/lr/lidy/Code/Active_Bayesian/Bayesian-Summarization/xsum_new/dataprocess.ipynb#X21sdnNjb2RlLXJlbW90ZQ%3D%3D?line=31'>32</a>\u001b[0m         \u001b[39mfor\u001b[39;00m i \u001b[39min\u001b[39;00m \u001b[39mrange\u001b[39m(length):\n\u001b[1;32m     <a href='vscode-notebook-cell://ssh-remote%2Bgpu03x/home/lr/lidy/Code/Active_Bayesian/Bayesian-Summarization/xsum_new/dataprocess.ipynb#X21sdnNjb2RlLXJlbW90ZQ%3D%3D?line=32'>33</a>\u001b[0m             json\u001b[39m.\u001b[39mdumps(my_dict_list[i], f)\n",
      "File \u001b[0;32m~/anaconda3/envs/PA2/lib/python3.9/site-packages/IPython/core/interactiveshell.py:277\u001b[0m, in \u001b[0;36m_modified_open\u001b[0;34m(file, *args, **kwargs)\u001b[0m\n\u001b[1;32m    275\u001b[0m \u001b[39m@functools\u001b[39m\u001b[39m.\u001b[39mwraps(io_open)\n\u001b[1;32m    276\u001b[0m \u001b[39mdef\u001b[39;00m \u001b[39m_modified_open\u001b[39m(file, \u001b[39m*\u001b[39margs, \u001b[39m*\u001b[39m\u001b[39m*\u001b[39mkwargs):\n\u001b[0;32m--> 277\u001b[0m     \u001b[39mif\u001b[39;00m file \u001b[39min\u001b[39;49;00m {\u001b[39m0\u001b[39;49m, \u001b[39m1\u001b[39;49m, \u001b[39m2\u001b[39;49m}:\n\u001b[1;32m    278\u001b[0m         \u001b[39mraise\u001b[39;00m \u001b[39mValueError\u001b[39;00m(\n\u001b[1;32m    279\u001b[0m             \u001b[39mf\u001b[39m\u001b[39m\"\u001b[39m\u001b[39mIPython won\u001b[39m\u001b[39m'\u001b[39m\u001b[39mt let you open fd=\u001b[39m\u001b[39m{\u001b[39;00mfile\u001b[39m}\u001b[39;00m\u001b[39m by default \u001b[39m\u001b[39m\"\u001b[39m\n\u001b[1;32m    280\u001b[0m             \u001b[39m\"\u001b[39m\u001b[39mas it is likely to crash IPython. If you know what you are doing, \u001b[39m\u001b[39m\"\u001b[39m\n\u001b[1;32m    281\u001b[0m             \u001b[39m\"\u001b[39m\u001b[39myou can use builtins\u001b[39m\u001b[39m'\u001b[39m\u001b[39m open.\u001b[39m\u001b[39m\"\u001b[39m\n\u001b[1;32m    282\u001b[0m         )\n\u001b[1;32m    284\u001b[0m     \u001b[39mreturn\u001b[39;00m io_open(file, \u001b[39m*\u001b[39margs, \u001b[39m*\u001b[39m\u001b[39m*\u001b[39mkwargs)\n",
      "\u001b[0;31mTypeError\u001b[0m: unhashable type: 'list'"
     ]
    }
   ],
   "source": [
    "json_path = 'xsum_new/validation.json'\n",
    "save_in_dictinary(my_dict_list,json_path,length=len(summary))"
   ]
  },
  {
   "cell_type": "code",
   "execution_count": 39,
   "metadata": {},
   "outputs": [
    {
     "name": "stdout",
     "output_type": "stream",
     "text": [
      "{'document': 'The country\\'s consumer watchdog has taken Apple to court for false advertising because the tablet computer does not work on Australia\\'s 4G network. Apple\\'s lawyers said they were willing to publish a clarification. However the company does not accept that it misled customers. The Australian Competition and Consumer Commission (ACCC) said on Tuesday: \"Apple\\'s recent promotion of the new \\'iPad with wi-fi + 4G\\' is misleading because it represents to Australian consumers that the product can, with a sim card, connect to a 4G mobile data network in Australia, when this is not the case.\" The watchdog then lodged a complaint at the Federal Court in Melbourne. At a preliminary hearing, Apple lawyer Paul Anastassiou said Apple had never claimed the device would work fully on the current 4G network operated by Telstra. Apple says the new iPad works on what is globally accepted to be a 4G network. The matter will go to a full trial on 2 May. The Apple iPad\\'s third version went on sale earlier this month, with Australia the first country where it was available. Shoppers lined up by the hundreds at Apple stores on opening day and the company said it had been its strongest iPad launch to date. The ACCC said it was seeking an injunction on sales as well as a financial penalty against Apple, corrective advertising and refunds to consumers. On its website, Apple does state that 4G LTE is only supported on selected networks in the US and Canada.', 'summary': 'US technology firm Apple has offered to refund Australian customers who felt misled about the 4G capabilities of the new iPad.', 'id': '17532613'}\n",
      "{'document': 'No international side has toured Bangladesh since 20 people were killed in a siege at a cafe in Dhaka in July. The England and Wales Cricket Board said in August that tour would go ahead following a security review. Jos Buttler will captain the one-day side, with the squads for the one-day and Test series to be named on Friday. The tour features three one-day internationals followed by two Test matches. Morgan has followed his own course, with the assurance ringing in his ears that nothing is going to happen, and I don\\'t see how they can now sack him England director of cricket Andrew Strauss said: \"While we understand and respect Eoin and Alex\\'s decision, we are disappointed that they have made themselves unavailable for selection for the Bangladesh tour.\" He added that no further withdrawals are expected following \"open and honest\" discussions with all the players. England players Stuart Broad, Moeen Ali, Chris Jordan and Liam Dawson have all publicly said they will tour Bangladesh. Former England captain Michael Vaughan has described Morgan\\'s decision as a \"huge mistake\", while Nasser Hussain, another ex-skipper of the national side, said Morgan \"should be with his team\". But team-mate Ben Stokes tweeted his support for both players. England fly out on 29 September, with the one-day series starting on 7 October and the Test series on 20 October. They follow that with a tour of India, which begins on 9 November and features five Tests, three ODIs and three Twenty20s. Morgan, 29, said this week that he would never go on a tour where security concerns may affect his game. \"In 2010, we played an Indian Premier League game in Bangalore and a bomb went off in the ground,\" he said. \"We left and went straight to the airport. \"Another one was playing domestic cricket in Bangladesh during political elections and things were incredibly violent. Given that no-one has toured there since the terrorist attack adds a bigger decision to it.\" Bowlers Andrew Caddick and Robert Croft pulled out of England\\'s 2001 tour of India because of safety concerns following the 9/11 attacks in New York. \"I was adamant I didn\\'t want to go and stuck to what I thought was right,\" Caddick told BBC Radio 5 live\\'s Sportsweek programme before Morgan and Hales made their announcement on Sunday. \"It\\'s slightly different now. The security they implement in world cricket is quite high, whereas back in 2001 it wasn\\'t. \"Eoin Morgan has experienced risks to security in the past. Nobody else in the England team has. It\\'s a personal decision and it should stay that way.\" Former spinner Graeme Swann, who was part of the England squad that returned to India after the Mumbai bombings in 2008, said he would not travel to Bangladesh if he was still playing. \"We are a target,\" he said. \"If I was in that situation, I wouldn\\'t go.\" Ex-England skipper Vaughan told BBC Radio 5 live that Morgan should go on the tour. \"I don\\'t think the captain had any other option but to get on the plane and lead a young side. I do think it is a huge mistake that he has made,\" he said. \"This young side will all be nervous because of everything around the side. There will be guards everywhere, they\\'ll have guns in their faces with security outside their rooms. The young England side won\\'t like what they see. \"He\\'ll continue in the side as captain for India - my question would be: \\'Are you safe going there?\\' There is a similar Foreign Office warning. \"There will be a bit of banter created and he\\'ll have to take some stick when he\\'s back in the side, that\\'s the nature of being in a sports team. It\\'s one that I think he will live to regret.\" It says there is \"a heightened threat of further terrorist attacks\" in Bangladesh, although the threat level applies to many European cities, including London. It adds \"foreigners, in particular westerners, may be directly targeted\" and that \"places where westerners are known to gather may be at higher risk of attack\". It advises travellers to Bangladesh to \"minimise exposure to these areas\" and \"remain vigilant, monitor local and social media and follow any specific advice of the local security authorities\". Australia postponed their Test tour of Bangladesh in October 2015 after the Australian government warned of an increasing security risk to the team. BBC Sport cricket correspondent Jonathan Agnew: \"Morgan has never expressed any positive views on making this tour, so his decision to pull out is not a surprise. \"In his explanation, he refers to a bomb blast in Bangalore in 2010, an incident that profoundly unsettled him, as did civil unrest in Bangladesh. It won\\'t be lost on Strauss, though, that Morgan has returned to play in both countries since. \"However, having guaranteed that players\\' futures will not be affected by this decision, it\\'s difficult to see Morgan losing the captaincy, as has been suggested in some quarters. \"Hales has effectively given another opening batsman the chance to take his place in Test cricket, although his future in that form was doubtful anyway. After a record-breaking summer, he\\'s sure to return to the one-day team in India.\" Sabir Mustafa, Editor, BBC Bengali Service: \"The Gulshan cafe attack raised a lot of questions about the police\\'s ability to disrupt the terror network or bring the perpetrators to justice.  A sense of fear had gripped both the expatriate communities as well as the locals who feared an escalation in the frequency and ferocity of attacks. \"But things have moved in the opposite direction lately. Since August, police have located and raided three hideouts of militants in and around Dhaka, killing 13 suspects. \"A sense of confidence is beginning to be generated among the population, that the police may be finally getting to grips with the situation. \"Despite these police successes, caution remains the mantra among expatriates.\"', 'summary': \"England one-day captain Eoin Morgan and opening batsman Alex Hales have opted out of October's tour of Bangladesh because of security concerns.\", 'id': '37331990'}\n",
      "{'document': \"In a nod to Mr Trudeau's fondness for statement socks, he wore Canada-themed mountie and maple leaf print ones to welcome his first foreign visitor. Mr Trudeau opted for a more subtle striped pair on his first official engagement in the Republic of Ireland. The Canadian premier is in the country for a three-day visit. Away from talk of socks, trade issues are set to dominate the agenda, with the Canada-EU free trade deal expected to be a focal point of talks between the two leaders. Mr Trudeau arrived in Dublin with his wife, Sophie GrÃ©goire, and their youngest son, Hadrien, on Monday. He is in Europe for a key G20 summit in Hamburg, Germany later this week. Mr Trudeau is also due to meet Irish President Michael D Higgins at his official residence. The visit was arranged in May when Mr Varadkar's predecessor Enda Kenny met the Canadian leader in Montreal. On that occasion, Mr Trudeau wore special Star Wars themed socks, as it coincided with the widely-celebrated Star Wars Day on 4 May.\", 'summary': 'Irish Taoiseach (PM) Leo Varadkar has engaged in some \"sock diplomacy\" in his first meeting with Canadian Prime Minister Justin Trudeau in Dublin.', 'id': '40493408'}\n"
     ]
    }
   ],
   "source": [
    "for i in range(3):\n",
    "    print(my_dict_list[i])"
   ]
  },
  {
   "cell_type": "code",
   "execution_count": null,
   "metadata": {},
   "outputs": [],
   "source": []
  },
  {
   "cell_type": "code",
   "execution_count": null,
   "metadata": {},
   "outputs": [],
   "source": []
  },
  {
   "cell_type": "code",
   "execution_count": null,
   "metadata": {},
   "outputs": [],
   "source": []
  },
  {
   "cell_type": "code",
   "execution_count": null,
   "metadata": {},
   "outputs": [],
   "source": []
  }
 ],
 "metadata": {
  "kernelspec": {
   "display_name": "PA2",
   "language": "python",
   "name": "pa2"
  },
  "language_info": {
   "codemirror_mode": {
    "name": "ipython",
    "version": 3
   },
   "file_extension": ".py",
   "mimetype": "text/x-python",
   "name": "python",
   "nbconvert_exporter": "python",
   "pygments_lexer": "ipython3",
   "version": "3.9.0"
  },
  "orig_nbformat": 4
 },
 "nbformat": 4,
 "nbformat_minor": 2
}
